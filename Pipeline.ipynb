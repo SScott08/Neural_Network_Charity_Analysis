{
 "cells": [
  {
   "cell_type": "code",
   "execution_count": 1,
   "metadata": {},
   "outputs": [],
   "source": [
    "# Import our dependencies\n",
    "import pandas as pd\n",
    "import matplotlib as plt\n",
    "from sklearn.datasets import make_blobs\n",
    "import sklearn as skl\n",
    "import tensorflow as tf"
   ]
  },
  {
   "cell_type": "code",
   "execution_count": 2,
   "metadata": {},
   "outputs": [
    {
     "data": {
      "text/plain": [
       "<matplotlib.axes._subplots.AxesSubplot at 0x1eeaf277d88>"
      ]
     },
     "execution_count": 2,
     "metadata": {},
     "output_type": "execute_result"
    },
    {
     "data": {
      "image/png": "[encoded data removed]",
      "text/plain": [
       "<Figure size 432x288 with 2 Axes>"
      ]
     },
     "metadata": {
      "needs_background": "light"
     },
     "output_type": "display_data"
    }
   ],
   "source": [
    "# Generate dummy dataset\n",
    "X, y = make_blobs(n_samples=1000, centers=2, n_features=2, random_state=78)\n",
    "\n",
    "# Creating a DataFrame with the dummy data\n",
    "df = pd.DataFrame(X, columns=[\"Feature 1\", \"Feature 2\"])\n",
    "df[\"Target\"] = y\n",
    "\n",
    "# Plotting the dummy data\n",
    "df.plot.scatter(x=\"Feature 1\", y=\"Feature 2\", c=\"Target\", colormap=\"winter\")"
   ]
  },
  {
   "cell_type": "code",
   "execution_count": 4,
   "metadata": {},
   "outputs": [],
   "source": [
    "# Use sklearn to split dataset\n",
    "from sklearn.model_selection import train_test_split\n",
    "X_train, X_test, y_train, y_test = train_test_split(X, y, random_state=78)"
   ]
  },
  {
   "cell_type": "code",
   "execution_count": 5,
   "metadata": {},
   "outputs": [],
   "source": [
    "# Create scaler instance\n",
    "X_scaler = skl.preprocessing.StandardScaler()\n",
    "\n",
    "# Fit the scaler\n",
    "X_scaler.fit(X_train)\n",
    "\n",
    "# Scale the data\n",
    "X_train_scaled = X_scaler.transform(X_train)\n",
    "X_test_scaled = X_scaler.transform(X_test)"
   ]
  },
  {
   "cell_type": "code",
   "execution_count": 6,
   "metadata": {},
   "outputs": [],
   "source": [
    "# Create the Keras Sequential model\n",
    "nn_model = tf.keras.models.Sequential()"
   ]
  },
  {
   "cell_type": "code",
   "execution_count": 7,
   "metadata": {},
   "outputs": [],
   "source": [
    "# Add our first Dense layer, including the input layer\n",
    "nn_model.add(tf.keras.layers.Dense(units=1, activation=\"relu\", input_dim=2))"
   ]
  },
  {
   "cell_type": "code",
   "execution_count": 8,
   "metadata": {},
   "outputs": [],
   "source": [
    "# Add the output layer that uses a probability activation function\n",
    "nn_model.add(tf.keras.layers.Dense(units=1, activation=\"sigmoid\"))"
   ]
  },
  {
   "cell_type": "code",
   "execution_count": 9,
   "metadata": {},
   "outputs": [
    {
     "name": "stdout",
     "output_type": "stream",
     "text": [
      "Model: \"sequential\"\n",
      "_________________________________________________________________\n",
      "Layer (type)                 Output Shape              Param #   \n",
      "=================================================================\n",
      "dense (Dense)                (None, 1)                 3         \n",
      "_________________________________________________________________\n",
      "dense_1 (Dense)              (None, 1)                 2         \n",
      "=================================================================\n",
      "Total params: 5\n",
      "Trainable params: 5\n",
      "Non-trainable params: 0\n",
      "_________________________________________________________________\n"
     ]
    }
   ],
   "source": [
    "# Check the structure of the Sequential model\n",
    "nn_model.summary()"
   ]
  },
  {
   "cell_type": "code",
   "execution_count": 10,
   "metadata": {},
   "outputs": [],
   "source": [
    "# Compile the Sequential model together and customize metrics\n",
    "nn_model.compile(loss=\"binary_crossentropy\", optimizer=\"adam\", metrics=[\"accuracy\"])"
   ]
  },
  {
   "cell_type": "code",
   "execution_count": 11,
   "metadata": {},
   "outputs": [
    {
     "name": "stdout",
     "output_type": "stream",
     "text": [
      "Epoch 1/100\n",
      "24/24 [==============================] - 1s 2ms/step - loss: 0.9512 - accuracy: 0.0460 \n",
      "Epoch 2/100\n",
      "24/24 [==============================] - 0s 2ms/step - loss: 0.9449 - accuracy: 0.0519\n",
      "Epoch 3/100\n",
      "24/24 [==============================] - 0s 2ms/step - loss: 0.8894 - accuracy: 0.0707\n",
      "Epoch 4/100\n",
      "24/24 [==============================] - 0s 2ms/step - loss: 0.8787 - accuracy: 0.0805\n",
      "Epoch 5/100\n",
      "24/24 [==============================] - 0s 2ms/step - loss: 0.8632 - accuracy: 0.0859\n",
      "Epoch 6/100\n",
      "24/24 [==============================] - 0s 2ms/step - loss: 0.8417 - accuracy: 0.0665\n",
      "Epoch 7/100\n",
      "24/24 [==============================] - 0s 2ms/step - loss: 0.8308 - accuracy: 0.0777\n",
      "Epoch 8/100\n",
      "24/24 [==============================] - 0s 2ms/step - loss: 0.8172 - accuracy: 0.0904\n",
      "Epoch 9/100\n",
      "24/24 [==============================] - 0s 2ms/step - loss: 0.8120 - accuracy: 0.1101\n",
      "Epoch 10/100\n",
      "24/24 [==============================] - 0s 2ms/step - loss: 0.7933 - accuracy: 0.1341\n",
      "Epoch 11/100\n",
      "24/24 [==============================] - 0s 2ms/step - loss: 0.7839 - accuracy: 0.1242\n",
      "Epoch 12/100\n",
      "24/24 [==============================] - 0s 2ms/step - loss: 0.7734 - accuracy: 0.1421\n",
      "Epoch 13/100\n",
      "24/24 [==============================] - 0s 2ms/step - loss: 0.7653 - accuracy: 0.1507\n",
      "Epoch 14/100\n",
      "24/24 [==============================] - 0s 2ms/step - loss: 0.7629 - accuracy: 0.1681\n",
      "Epoch 15/100\n",
      "24/24 [==============================] - 0s 2ms/step - loss: 0.7579 - accuracy: 0.1720\n",
      "Epoch 16/100\n",
      "24/24 [==============================] - 0s 2ms/step - loss: 0.7475 - accuracy: 0.1956\n",
      "Epoch 17/100\n",
      "24/24 [==============================] - 0s 2ms/step - loss: 0.7437 - accuracy: 0.2140\n",
      "Epoch 18/100\n",
      "24/24 [==============================] - 0s 2ms/step - loss: 0.7392 - accuracy: 0.2201\n",
      "Epoch 19/100\n",
      "24/24 [==============================] - 0s 2ms/step - loss: 0.7335 - accuracy: 0.2463\n",
      "Epoch 20/100\n",
      "24/24 [==============================] - 0s 2ms/step - loss: 0.7303 - accuracy: 0.2548\n",
      "Epoch 21/100\n",
      "24/24 [==============================] - 0s 2ms/step - loss: 0.7284 - accuracy: 0.2556\n",
      "Epoch 22/100\n",
      "24/24 [==============================] - 0s 2ms/step - loss: 0.7235 - accuracy: 0.2943\n",
      "Epoch 23/100\n",
      "24/24 [==============================] - 0s 2ms/step - loss: 0.7210 - accuracy: 0.3039\n",
      "Epoch 24/100\n",
      "24/24 [==============================] - 0s 2ms/step - loss: 0.7175 - accuracy: 0.3198\n",
      "Epoch 25/100\n",
      "24/24 [==============================] - 0s 2ms/step - loss: 0.7174 - accuracy: 0.3110\n",
      "Epoch 26/100\n",
      "24/24 [==============================] - 0s 2ms/step - loss: 0.7165 - accuracy: 0.3237\n",
      "Epoch 27/100\n",
      "24/24 [==============================] - 0s 2ms/step - loss: 0.7093 - accuracy: 0.3944\n",
      "Epoch 28/100\n",
      "24/24 [==============================] - 0s 2ms/step - loss: 0.7122 - accuracy: 0.3490\n",
      "Epoch 29/100\n",
      "24/24 [==============================] - 0s 2ms/step - loss: 0.7090 - accuracy: 0.3745\n",
      "Epoch 30/100\n",
      "24/24 [==============================] - 0s 2ms/step - loss: 0.7078 - accuracy: 0.3855\n",
      "Epoch 31/100\n",
      "24/24 [==============================] - 0s 2ms/step - loss: 0.7025 - accuracy: 0.4333\n",
      "Epoch 32/100\n",
      "24/24 [==============================] - 0s 2ms/step - loss: 0.7038 - accuracy: 0.4304\n",
      "Epoch 33/100\n",
      "24/24 [==============================] - 0s 2ms/step - loss: 0.7050 - accuracy: 0.4134\n",
      "Epoch 34/100\n",
      "24/24 [==============================] - 0s 2ms/step - loss: 0.7045 - accuracy: 0.4066\n",
      "Epoch 35/100\n",
      "24/24 [==============================] - 0s 2ms/step - loss: 0.7027 - accuracy: 0.4272\n",
      "Epoch 36/100\n",
      "24/24 [==============================] - 0s 2ms/step - loss: 0.7001 - accuracy: 0.4507\n",
      "Epoch 37/100\n",
      "24/24 [==============================] - 0s 2ms/step - loss: 0.7020 - accuracy: 0.4262\n",
      "Epoch 38/100\n",
      "24/24 [==============================] - 0s 2ms/step - loss: 0.6993 - accuracy: 0.4637\n",
      "Epoch 39/100\n",
      "24/24 [==============================] - 0s 2ms/step - loss: 0.6989 - accuracy: 0.4732\n",
      "Epoch 40/100\n",
      "24/24 [==============================] - 0s 2ms/step - loss: 0.6986 - accuracy: 0.4783\n",
      "Epoch 41/100\n",
      "24/24 [==============================] - 0s 2ms/step - loss: 0.6980 - accuracy: 0.4882\n",
      "Epoch 42/100\n",
      "24/24 [==============================] - 0s 2ms/step - loss: 0.6971 - accuracy: 0.4920\n",
      "Epoch 43/100\n",
      "24/24 [==============================] - 0s 2ms/step - loss: 0.6941 - accuracy: 0.5337\n",
      "Epoch 44/100\n",
      "24/24 [==============================] - 0s 1ms/step - loss: 0.6978 - accuracy: 0.4772\n",
      "Epoch 45/100\n",
      "24/24 [==============================] - 0s 2ms/step - loss: 0.6959 - accuracy: 0.5024\n",
      "Epoch 46/100\n",
      "24/24 [==============================] - 0s 2ms/step - loss: 0.6957 - accuracy: 0.4960\n",
      "Epoch 47/100\n",
      "24/24 [==============================] - 0s 2ms/step - loss: 0.6947 - accuracy: 0.5165\n",
      "Epoch 48/100\n",
      "24/24 [==============================] - 0s 2ms/step - loss: 0.6944 - accuracy: 0.5135\n",
      "Epoch 49/100\n",
      "24/24 [==============================] - 0s 2ms/step - loss: 0.6945 - accuracy: 0.5111\n",
      "Epoch 50/100\n",
      "24/24 [==============================] - 0s 2ms/step - loss: 0.6941 - accuracy: 0.5130\n",
      "Epoch 51/100\n",
      "24/24 [==============================] - 0s 2ms/step - loss: 0.6944 - accuracy: 0.5006\n",
      "Epoch 52/100\n",
      "24/24 [==============================] - 0s 2ms/step - loss: 0.6940 - accuracy: 0.5021\n",
      "Epoch 53/100\n",
      "24/24 [==============================] - 0s 2ms/step - loss: 0.6932 - accuracy: 0.5120\n",
      "Epoch 54/100\n",
      "24/24 [==============================] - 0s 2ms/step - loss: 0.6933 - accuracy: 0.5046\n",
      "Epoch 55/100\n",
      "24/24 [==============================] - 0s 2ms/step - loss: 0.6945 - accuracy: 0.4683\n",
      "Epoch 56/100\n",
      "24/24 [==============================] - 0s 2ms/step - loss: 0.6919 - accuracy: 0.5231\n",
      "Epoch 57/100\n",
      "24/24 [==============================] - 0s 2ms/step - loss: 0.6922 - accuracy: 0.5082\n",
      "Epoch 58/100\n",
      "24/24 [==============================] - 0s 2ms/step - loss: 0.6920 - accuracy: 0.5041\n",
      "Epoch 59/100\n",
      "24/24 [==============================] - 0s 2ms/step - loss: 0.6911 - accuracy: 0.5232\n",
      "Epoch 60/100\n",
      "24/24 [==============================] - 0s 2ms/step - loss: 0.6915 - accuracy: 0.5054\n",
      "Epoch 61/100\n",
      "24/24 [==============================] - 0s 2ms/step - loss: 0.6907 - accuracy: 0.5154\n",
      "Epoch 62/100\n",
      "24/24 [==============================] - 0s 2ms/step - loss: 0.6892 - accuracy: 0.5427\n",
      "Epoch 63/100\n",
      "24/24 [==============================] - 0s 2ms/step - loss: 0.6907 - accuracy: 0.4992\n",
      "Epoch 64/100\n",
      "24/24 [==============================] - 0s 2ms/step - loss: 0.6892 - accuracy: 0.5214\n",
      "Epoch 65/100\n",
      "24/24 [==============================] - 0s 2ms/step - loss: 0.6899 - accuracy: 0.4845\n",
      "Epoch 66/100\n",
      "24/24 [==============================] - 0s 2ms/step - loss: 0.6884 - accuracy: 0.5047\n",
      "Epoch 67/100\n",
      "24/24 [==============================] - 0s 2ms/step - loss: 0.6875 - accuracy: 0.4984\n",
      "Epoch 68/100\n",
      "24/24 [==============================] - 0s 2ms/step - loss: 0.6872 - accuracy: 0.4963\n",
      "Epoch 69/100\n",
      "24/24 [==============================] - 0s 2ms/step - loss: 0.6853 - accuracy: 0.5203\n",
      "Epoch 70/100\n",
      "24/24 [==============================] - 0s 2ms/step - loss: 0.6843 - accuracy: 0.5278\n",
      "Epoch 71/100\n",
      "24/24 [==============================] - 0s 2ms/step - loss: 0.6832 - accuracy: 0.4926\n",
      "Epoch 72/100\n",
      "24/24 [==============================] - 0s 2ms/step - loss: 0.6819 - accuracy: 0.5053\n",
      "Epoch 73/100\n",
      "24/24 [==============================] - 0s 2ms/step - loss: 0.6795 - accuracy: 0.5078\n",
      "Epoch 74/100\n",
      "24/24 [==============================] - 0s 2ms/step - loss: 0.6778 - accuracy: 0.5007\n",
      "Epoch 75/100\n",
      "24/24 [==============================] - 0s 2ms/step - loss: 0.6716 - accuracy: 0.5294\n",
      "Epoch 76/100\n",
      "24/24 [==============================] - 0s 2ms/step - loss: 0.6718 - accuracy: 0.4812\n",
      "Epoch 77/100\n",
      "24/24 [==============================] - 0s 2ms/step - loss: 0.6637 - accuracy: 0.5243\n",
      "Epoch 78/100\n",
      "24/24 [==============================] - 0s 2ms/step - loss: 0.6609 - accuracy: 0.4880\n",
      "Epoch 79/100\n",
      "24/24 [==============================] - 0s 2ms/step - loss: 0.6541 - accuracy: 0.5112\n",
      "Epoch 80/100\n",
      "24/24 [==============================] - 0s 2ms/step - loss: 0.6489 - accuracy: 0.4960\n",
      "Epoch 81/100\n",
      "24/24 [==============================] - 0s 2ms/step - loss: 0.6367 - accuracy: 0.9038\n",
      "Epoch 82/100\n",
      "24/24 [==============================] - 0s 2ms/step - loss: 0.6300 - accuracy: 0.8854\n",
      "Epoch 83/100\n"
     ]
    },
    {
     "name": "stdout",
     "output_type": "stream",
     "text": [
      "24/24 [==============================] - 0s 2ms/step - loss: 0.6188 - accuracy: 0.9112\n",
      "Epoch 84/100\n",
      "24/24 [==============================] - 0s 2ms/step - loss: 0.6061 - accuracy: 0.9098\n",
      "Epoch 85/100\n",
      "24/24 [==============================] - 0s 2ms/step - loss: 0.5909 - accuracy: 0.9217\n",
      "Epoch 86/100\n",
      "24/24 [==============================] - 0s 2ms/step - loss: 0.5746 - accuracy: 0.9471\n",
      "Epoch 87/100\n",
      "24/24 [==============================] - 0s 2ms/step - loss: 0.5590 - accuracy: 0.9423\n",
      "Epoch 88/100\n",
      "24/24 [==============================] - 0s 2ms/step - loss: 0.5379 - accuracy: 0.9553\n",
      "Epoch 89/100\n",
      "24/24 [==============================] - 0s 2ms/step - loss: 0.5326 - accuracy: 0.9459\n",
      "Epoch 90/100\n",
      "24/24 [==============================] - 0s 2ms/step - loss: 0.5074 - accuracy: 0.9502\n",
      "Epoch 91/100\n",
      "24/24 [==============================] - 0s 2ms/step - loss: 0.4797 - accuracy: 0.9710\n",
      "Epoch 92/100\n",
      "24/24 [==============================] - 0s 2ms/step - loss: 0.4775 - accuracy: 0.9558\n",
      "Epoch 93/100\n",
      "24/24 [==============================] - 0s 2ms/step - loss: 0.4762 - accuracy: 0.9586\n",
      "Epoch 94/100\n",
      "24/24 [==============================] - 0s 2ms/step - loss: 0.4492 - accuracy: 0.9666\n",
      "Epoch 95/100\n",
      "24/24 [==============================] - 0s 2ms/step - loss: 0.4328 - accuracy: 0.9652\n",
      "Epoch 96/100\n",
      "24/24 [==============================] - 0s 2ms/step - loss: 0.4056 - accuracy: 0.9793\n",
      "Epoch 97/100\n",
      "24/24 [==============================] - 0s 2ms/step - loss: 0.4093 - accuracy: 0.9692\n",
      "Epoch 98/100\n",
      "24/24 [==============================] - 0s 2ms/step - loss: 0.3881 - accuracy: 0.9656\n",
      "Epoch 99/100\n",
      "24/24 [==============================] - 0s 2ms/step - loss: 0.3757 - accuracy: 0.9834\n",
      "Epoch 100/100\n",
      "24/24 [==============================] - 0s 2ms/step - loss: 0.3588 - accuracy: 0.9690\n"
     ]
    }
   ],
   "source": [
    "# Fit the model to the training data\n",
    "fit_model = nn_model.fit(X_train_scaled, y_train, epochs=100)"
   ]
  },
  {
   "cell_type": "code",
   "execution_count": 12,
   "metadata": {},
   "outputs": [
    {
     "data": {
      "text/plain": [
       "<matplotlib.axes._subplots.AxesSubplot at 0x1eeb07bb308>"
      ]
     },
     "execution_count": 12,
     "metadata": {},
     "output_type": "execute_result"
    },
    {
     "data": {
      "image/png": "[encoded data removed]",
      "text/plain": [
       "<Figure size 432x288 with 1 Axes>"
      ]
     },
     "metadata": {
      "needs_background": "light"
     },
     "output_type": "display_data"
    }
   ],
   "source": [
    "# Create a DataFrame containing training history\n",
    "history_df = pd.DataFrame(fit_model.history, index=range(1,len(fit_model.history[\"loss\"])+1))\n",
    "\n",
    "# Plot the loss\n",
    "history_df.plot(y=\"loss\")"
   ]
  },
  {
   "cell_type": "code",
   "execution_count": 13,
   "metadata": {},
   "outputs": [
    {
     "data": {
      "text/plain": [
       "<matplotlib.axes._subplots.AxesSubplot at 0x1eeb197b708>"
      ]
     },
     "execution_count": 13,
     "metadata": {},
     "output_type": "execute_result"
    },
    {
     "data": {
      "image/png": "[encoded data removed]",
      "text/plain": [
       "<Figure size 432x288 with 1 Axes>"
      ]
     },
     "metadata": {
      "needs_background": "light"
     },
     "output_type": "display_data"
    }
   ],
   "source": [
    "# Plot the accuracy\n",
    "history_df.plot(y=\"accuracy\")"
   ]
  },
  {
   "cell_type": "code",
   "execution_count": 14,
   "metadata": {},
   "outputs": [
    {
     "name": "stdout",
     "output_type": "stream",
     "text": [
      "8/8 - 0s - loss: 0.3509 - accuracy: 0.9880\n",
      "Loss: 0.350920706987381, Accuracy: 0.9879999756813049\n"
     ]
    }
   ],
   "source": [
    "# Evaluate the model using the test data\n",
    "model_loss, model_accuracy = nn_model.evaluate(X_test_scaled,y_test,verbose=2)\n",
    "print(f\"Loss: {model_loss}, Accuracy: {model_accuracy}\")"
   ]
  },
  {
   "cell_type": "code",
   "execution_count": 15,
   "metadata": {},
   "outputs": [
    {
     "data": {
      "text/plain": [
       "array([[0],\n",
       "       [1],\n",
       "       [0],\n",
       "       [1],\n",
       "       [0],\n",
       "       [0],\n",
       "       [1],\n",
       "       [1],\n",
       "       [1],\n",
       "       [0]])"
      ]
     },
     "execution_count": 15,
     "metadata": {},
     "output_type": "execute_result"
    }
   ],
   "source": [
    "# Predict the classification of a new set of blob data\n",
    "new_X, new_Y = make_blobs(n_samples=10, centers=2, n_features=2, random_state=78)\n",
    "new_X_scaled = X_scaler.transform(new_X)\n",
    "(nn_model.predict(new_X_scaled) > 0.5).astype(\"int32\")"
   ]
  },
  {
   "cell_type": "code",
   "execution_count": 16,
   "metadata": {},
   "outputs": [
    {
     "data": {
      "text/plain": [
       "<matplotlib.axes._subplots.AxesSubplot at 0x1eeb1a4dd08>"
      ]
     },
     "execution_count": 16,
     "metadata": {},
     "output_type": "execute_result"
    },
    {
     "data": {
      "image/png": "[encoded data removed]",
      "text/plain": [
       "<Figure size 432x288 with 2 Axes>"
      ]
     },
     "metadata": {
      "needs_background": "light"
     },
     "output_type": "display_data"
    }
   ],
   "source": [
    "from sklearn.datasets import make_moons\n",
    "\n",
    "# Creating dummy nonlinear data\n",
    "X_moons, y_moons = make_moons(n_samples=1000, noise=0.08, random_state=78)\n",
    "\n",
    "# Transforming y_moons to a vertical vector\n",
    "y_moons = y_moons.reshape(-1, 1)\n",
    "\n",
    "# Creating a DataFrame to plot the nonlinear dummy data\n",
    "df_moons = pd.DataFrame(X_moons, columns=[\"Feature 1\", \"Feature 2\"])\n",
    "df_moons[\"Target\"] = y_moons\n",
    "\n",
    "# Plot the nonlinear dummy data\n",
    "df_moons.plot.scatter(x=\"Feature 1\",y=\"Feature 2\", c=\"Target\",colormap=\"winter\")"
   ]
  },
  {
   "cell_type": "code",
   "execution_count": 17,
   "metadata": {},
   "outputs": [],
   "source": [
    "# Create training and testing sets\n",
    "X_moon_train, X_moon_test, y_moon_train, y_moon_test = train_test_split(\n",
    "    X_moons, y_moons, random_state=78\n",
    ")\n",
    "\n",
    "# Create the scaler instance\n",
    "X_moon_scaler = skl.preprocessing.StandardScaler()\n",
    "\n",
    "# Fit the scaler\n",
    "X_moon_scaler.fit(X_moon_train)\n",
    "\n",
    "# Scale the data\n",
    "X_moon_train_scaled = X_moon_scaler.transform(X_moon_train)\n",
    "X_moon_test_scaled = X_moon_scaler.transform(X_moon_test)"
   ]
  },
  {
   "cell_type": "code",
   "execution_count": 18,
   "metadata": {},
   "outputs": [
    {
     "name": "stdout",
     "output_type": "stream",
     "text": [
      "Epoch 1/100\n",
      "24/24 [==============================] - 0s 2ms/step - loss: 0.9825 - accuracy: 0.2893\n",
      "Epoch 2/100\n",
      "24/24 [==============================] - 0s 2ms/step - loss: 0.9256 - accuracy: 0.2933\n",
      "Epoch 3/100\n",
      "24/24 [==============================] - 0s 2ms/step - loss: 0.8797 - accuracy: 0.2960\n",
      "Epoch 4/100\n",
      "24/24 [==============================] - 0s 2ms/step - loss: 0.8458 - accuracy: 0.3120\n",
      "Epoch 5/100\n",
      "24/24 [==============================] - 0s 2ms/step - loss: 0.8205 - accuracy: 0.3187\n",
      "Epoch 6/100\n",
      "24/24 [==============================] - 0s 2ms/step - loss: 0.8002 - accuracy: 0.3333\n",
      "Epoch 7/100\n",
      "24/24 [==============================] - 0s 3ms/step - loss: 0.7837 - accuracy: 0.3400\n",
      "Epoch 8/100\n",
      "24/24 [==============================] - 0s 3ms/step - loss: 0.7695 - accuracy: 0.3480\n",
      "Epoch 9/100\n",
      "24/24 [==============================] - 0s 3ms/step - loss: 0.7576 - accuracy: 0.3587\n",
      "Epoch 10/100\n",
      "24/24 [==============================] - 0s 3ms/step - loss: 0.7477 - accuracy: 0.3733\n",
      "Epoch 11/100\n",
      "24/24 [==============================] - 0s 3ms/step - loss: 0.7386 - accuracy: 0.3840\n",
      "Epoch 12/100\n",
      "24/24 [==============================] - 0s 3ms/step - loss: 0.7307 - accuracy: 0.3933\n",
      "Epoch 13/100\n",
      "24/24 [==============================] - 0s 3ms/step - loss: 0.7236 - accuracy: 0.3987\n",
      "Epoch 14/100\n",
      "24/24 [==============================] - 0s 3ms/step - loss: 0.7171 - accuracy: 0.4120\n",
      "Epoch 15/100\n",
      "24/24 [==============================] - 0s 3ms/step - loss: 0.7112 - accuracy: 0.4213\n",
      "Epoch 16/100\n",
      "24/24 [==============================] - 0s 3ms/step - loss: 0.7058 - accuracy: 0.4240\n",
      "Epoch 17/100\n",
      "24/24 [==============================] - 0s 3ms/step - loss: 0.7005 - accuracy: 0.4293\n",
      "Epoch 18/100\n",
      "24/24 [==============================] - 0s 3ms/step - loss: 0.6958 - accuracy: 0.4347\n",
      "Epoch 19/100\n",
      "24/24 [==============================] - 0s 3ms/step - loss: 0.6915 - accuracy: 0.4400\n",
      "Epoch 20/100\n",
      "24/24 [==============================] - 0s 3ms/step - loss: 0.6873 - accuracy: 0.4507\n",
      "Epoch 21/100\n",
      "24/24 [==============================] - 0s 3ms/step - loss: 0.6832 - accuracy: 0.4573\n",
      "Epoch 22/100\n",
      "24/24 [==============================] - 0s 3ms/step - loss: 0.6792 - accuracy: 0.4613\n",
      "Epoch 23/100\n",
      "24/24 [==============================] - 0s 3ms/step - loss: 0.6753 - accuracy: 0.4693\n",
      "Epoch 24/100\n",
      "24/24 [==============================] - 0s 3ms/step - loss: 0.6717 - accuracy: 0.4693\n",
      "Epoch 25/100\n",
      "24/24 [==============================] - 0s 3ms/step - loss: 0.6680 - accuracy: 0.4693\n",
      "Epoch 26/100\n",
      "24/24 [==============================] - 0s 3ms/step - loss: 0.6646 - accuracy: 0.4773\n",
      "Epoch 27/100\n",
      "24/24 [==============================] - 0s 3ms/step - loss: 0.6613 - accuracy: 0.4853\n",
      "Epoch 28/100\n",
      "24/24 [==============================] - 0s 3ms/step - loss: 0.6578 - accuracy: 0.4907\n",
      "Epoch 29/100\n",
      "24/24 [==============================] - 0s 3ms/step - loss: 0.6543 - accuracy: 0.5027\n",
      "Epoch 30/100\n",
      "24/24 [==============================] - 0s 3ms/step - loss: 0.6509 - accuracy: 0.5160\n",
      "Epoch 31/100\n",
      "24/24 [==============================] - 0s 3ms/step - loss: 0.6472 - accuracy: 0.5267\n",
      "Epoch 32/100\n",
      "24/24 [==============================] - 0s 3ms/step - loss: 0.6436 - accuracy: 0.5347\n",
      "Epoch 33/100\n",
      "24/24 [==============================] - 0s 3ms/step - loss: 0.6400 - accuracy: 0.5413\n",
      "Epoch 34/100\n",
      "24/24 [==============================] - 0s 3ms/step - loss: 0.6363 - accuracy: 0.5440\n",
      "Epoch 35/100\n",
      "24/24 [==============================] - 0s 3ms/step - loss: 0.6326 - accuracy: 0.5520\n",
      "Epoch 36/100\n",
      "24/24 [==============================] - 0s 3ms/step - loss: 0.6290 - accuracy: 0.5613\n",
      "Epoch 37/100\n",
      "24/24 [==============================] - 0s 3ms/step - loss: 0.6252 - accuracy: 0.5747\n",
      "Epoch 38/100\n",
      "24/24 [==============================] - 0s 3ms/step - loss: 0.6216 - accuracy: 0.5827\n",
      "Epoch 39/100\n",
      "24/24 [==============================] - 0s 3ms/step - loss: 0.6179 - accuracy: 0.5933\n",
      "Epoch 40/100\n",
      "24/24 [==============================] - 0s 3ms/step - loss: 0.6144 - accuracy: 0.6000\n",
      "Epoch 41/100\n",
      "24/24 [==============================] - 0s 3ms/step - loss: 0.6109 - accuracy: 0.6027\n",
      "Epoch 42/100\n",
      "24/24 [==============================] - 0s 3ms/step - loss: 0.6072 - accuracy: 0.6107\n",
      "Epoch 43/100\n",
      "24/24 [==============================] - 0s 3ms/step - loss: 0.6035 - accuracy: 0.6173\n",
      "Epoch 44/100\n",
      "24/24 [==============================] - 0s 3ms/step - loss: 0.5998 - accuracy: 0.6253\n",
      "Epoch 45/100\n",
      "24/24 [==============================] - 0s 3ms/step - loss: 0.5958 - accuracy: 0.6293\n",
      "Epoch 46/100\n",
      "24/24 [==============================] - 0s 2ms/step - loss: 0.5920 - accuracy: 0.6373\n",
      "Epoch 47/100\n",
      "24/24 [==============================] - 0s 3ms/step - loss: 0.5880 - accuracy: 0.6427\n",
      "Epoch 48/100\n",
      "24/24 [==============================] - 0s 3ms/step - loss: 0.5842 - accuracy: 0.6440\n",
      "Epoch 49/100\n",
      "24/24 [==============================] - 0s 3ms/step - loss: 0.5803 - accuracy: 0.6520\n",
      "Epoch 50/100\n",
      "24/24 [==============================] - 0s 3ms/step - loss: 0.5762 - accuracy: 0.6587\n",
      "Epoch 51/100\n",
      "24/24 [==============================] - 0s 3ms/step - loss: 0.5723 - accuracy: 0.6613\n",
      "Epoch 52/100\n",
      "24/24 [==============================] - 0s 3ms/step - loss: 0.5683 - accuracy: 0.6720\n",
      "Epoch 53/100\n",
      "24/24 [==============================] - 0s 2ms/step - loss: 0.5644 - accuracy: 0.6773\n",
      "Epoch 54/100\n",
      "24/24 [==============================] - 0s 2ms/step - loss: 0.5606 - accuracy: 0.6813\n",
      "Epoch 55/100\n",
      "24/24 [==============================] - 0s 3ms/step - loss: 0.5567 - accuracy: 0.6853\n",
      "Epoch 56/100\n",
      "24/24 [==============================] - 0s 3ms/step - loss: 0.5528 - accuracy: 0.6920\n",
      "Epoch 57/100\n",
      "24/24 [==============================] - 0s 3ms/step - loss: 0.5490 - accuracy: 0.6973\n",
      "Epoch 58/100\n",
      "24/24 [==============================] - 0s 3ms/step - loss: 0.5451 - accuracy: 0.7027\n",
      "Epoch 59/100\n",
      "24/24 [==============================] - 0s 3ms/step - loss: 0.5413 - accuracy: 0.7067\n",
      "Epoch 60/100\n",
      "24/24 [==============================] - 0s 3ms/step - loss: 0.5375 - accuracy: 0.7093\n",
      "Epoch 61/100\n",
      "24/24 [==============================] - 0s 3ms/step - loss: 0.5337 - accuracy: 0.7120\n",
      "Epoch 62/100\n",
      "24/24 [==============================] - 0s 3ms/step - loss: 0.5298 - accuracy: 0.7133\n",
      "Epoch 63/100\n",
      "24/24 [==============================] - 0s 3ms/step - loss: 0.5261 - accuracy: 0.7147\n",
      "Epoch 64/100\n",
      "24/24 [==============================] - 0s 3ms/step - loss: 0.5224 - accuracy: 0.7200\n",
      "Epoch 65/100\n",
      "24/24 [==============================] - 0s 3ms/step - loss: 0.5187 - accuracy: 0.7240\n",
      "Epoch 66/100\n",
      "24/24 [==============================] - 0s 3ms/step - loss: 0.5152 - accuracy: 0.7293\n",
      "Epoch 67/100\n",
      "24/24 [==============================] - 0s 3ms/step - loss: 0.5115 - accuracy: 0.7360\n",
      "Epoch 68/100\n",
      "24/24 [==============================] - 0s 3ms/step - loss: 0.5080 - accuracy: 0.7427\n",
      "Epoch 69/100\n",
      "24/24 [==============================] - 0s 3ms/step - loss: 0.5046 - accuracy: 0.7453\n",
      "Epoch 70/100\n",
      "24/24 [==============================] - 0s 3ms/step - loss: 0.5011 - accuracy: 0.7493\n",
      "Epoch 71/100\n",
      "24/24 [==============================] - 0s 3ms/step - loss: 0.4978 - accuracy: 0.7507\n",
      "Epoch 72/100\n",
      "24/24 [==============================] - 0s 3ms/step - loss: 0.4945 - accuracy: 0.7533\n",
      "Epoch 73/100\n",
      "24/24 [==============================] - 0s 3ms/step - loss: 0.4913 - accuracy: 0.7533\n",
      "Epoch 74/100\n",
      "24/24 [==============================] - 0s 2ms/step - loss: 0.4882 - accuracy: 0.7600\n",
      "Epoch 75/100\n",
      "24/24 [==============================] - 0s 3ms/step - loss: 0.4848 - accuracy: 0.7613\n",
      "Epoch 76/100\n",
      "24/24 [==============================] - 0s 3ms/step - loss: 0.4817 - accuracy: 0.7627\n",
      "Epoch 77/100\n",
      "24/24 [==============================] - 0s 3ms/step - loss: 0.4786 - accuracy: 0.7667\n",
      "Epoch 78/100\n",
      "24/24 [==============================] - 0s 4ms/step - loss: 0.4754 - accuracy: 0.7680\n",
      "Epoch 79/100\n",
      "24/24 [==============================] - 0s 4ms/step - loss: 0.4724 - accuracy: 0.7693\n",
      "Epoch 80/100\n",
      "24/24 [==============================] - 0s 4ms/step - loss: 0.4695 - accuracy: 0.7720\n",
      "Epoch 81/100\n",
      "24/24 [==============================] - 0s 4ms/step - loss: 0.4664 - accuracy: 0.7747\n",
      "Epoch 82/100\n",
      "24/24 [==============================] - 0s 3ms/step - loss: 0.4634 - accuracy: 0.7800\n",
      "Epoch 83/100\n"
     ]
    },
    {
     "name": "stdout",
     "output_type": "stream",
     "text": [
      "24/24 [==============================] - 0s 3ms/step - loss: 0.4603 - accuracy: 0.7800\n",
      "Epoch 84/100\n",
      "24/24 [==============================] - 0s 3ms/step - loss: 0.4572 - accuracy: 0.7800\n",
      "Epoch 85/100\n",
      "24/24 [==============================] - 0s 3ms/step - loss: 0.4543 - accuracy: 0.7827\n",
      "Epoch 86/100\n",
      "24/24 [==============================] - 0s 4ms/step - loss: 0.4514 - accuracy: 0.7867\n",
      "Epoch 87/100\n",
      "24/24 [==============================] - 0s 4ms/step - loss: 0.4482 - accuracy: 0.7893\n",
      "Epoch 88/100\n",
      "24/24 [==============================] - 0s 3ms/step - loss: 0.4452 - accuracy: 0.7947\n",
      "Epoch 89/100\n",
      "24/24 [==============================] - 0s 3ms/step - loss: 0.4423 - accuracy: 0.7947\n",
      "Epoch 90/100\n",
      "24/24 [==============================] - 0s 3ms/step - loss: 0.4393 - accuracy: 0.7947\n",
      "Epoch 91/100\n",
      "24/24 [==============================] - 0s 3ms/step - loss: 0.4364 - accuracy: 0.7960\n",
      "Epoch 92/100\n",
      "24/24 [==============================] - 0s 3ms/step - loss: 0.4336 - accuracy: 0.7987\n",
      "Epoch 93/100\n",
      "24/24 [==============================] - 0s 3ms/step - loss: 0.4307 - accuracy: 0.8000\n",
      "Epoch 94/100\n",
      "24/24 [==============================] - 0s 3ms/step - loss: 0.4281 - accuracy: 0.8013\n",
      "Epoch 95/100\n",
      "24/24 [==============================] - 0s 3ms/step - loss: 0.4253 - accuracy: 0.8027\n",
      "Epoch 96/100\n",
      "24/24 [==============================] - 0s 3ms/step - loss: 0.4228 - accuracy: 0.8027\n",
      "Epoch 97/100\n",
      "24/24 [==============================] - 0s 3ms/step - loss: 0.4202 - accuracy: 0.8067\n",
      "Epoch 98/100\n",
      "24/24 [==============================] - 0s 3ms/step - loss: 0.4176 - accuracy: 0.8080\n",
      "Epoch 99/100\n",
      "24/24 [==============================] - 0s 3ms/step - loss: 0.4151 - accuracy: 0.8120\n",
      "Epoch 100/100\n",
      "24/24 [==============================] - 0s 3ms/step - loss: 0.4125 - accuracy: 0.8133\n"
     ]
    }
   ],
   "source": [
    "# Training the model with the nonlinear data\n",
    "model_moon = nn_model.fit(X_moon_train_scaled, y_moon_train, epochs=100, shuffle=True)"
   ]
  },
  {
   "cell_type": "code",
   "execution_count": 19,
   "metadata": {},
   "outputs": [
    {
     "data": {
      "text/plain": [
       "<matplotlib.axes._subplots.AxesSubplot at 0x1eeb1be3dc8>"
      ]
     },
     "execution_count": 19,
     "metadata": {},
     "output_type": "execute_result"
    },
    {
     "data": {
      "image/png": "[encoded data removed]",
      "text/plain": [
       "<Figure size 432x288 with 1 Axes>"
      ]
     },
     "metadata": {
      "needs_background": "light"
     },
     "output_type": "display_data"
    }
   ],
   "source": [
    "# Create a DataFrame containing training history\n",
    "history_df = pd.DataFrame(model_moon.history, index=range(1,len(model_moon.history[\"loss\"])+1))\n",
    "\n",
    "# Plot the loss\n",
    "history_df.plot(y=\"loss\")"
   ]
  },
  {
   "cell_type": "code",
   "execution_count": 20,
   "metadata": {},
   "outputs": [
    {
     "data": {
      "text/plain": [
       "<matplotlib.axes._subplots.AxesSubplot at 0x1eeb1c19d88>"
      ]
     },
     "execution_count": 20,
     "metadata": {},
     "output_type": "execute_result"
    },
    {
     "data": {
      "image/png": "[encoded data removed]",
      "text/plain": [
       "<Figure size 432x288 with 1 Axes>"
      ]
     },
     "metadata": {
      "needs_background": "light"
     },
     "output_type": "display_data"
    }
   ],
   "source": [
    "# Plot the loss\n",
    "history_df.plot(y=\"accuracy\")"
   ]
  },
  {
   "cell_type": "code",
   "execution_count": null,
   "metadata": {},
   "outputs": [],
   "source": []
  }
 ],
 "metadata": {
  "kernelspec": {
   "display_name": "Python 3",
   "language": "python",
   "name": "python3"
  },
  "language_info": {
   "codemirror_mode": {
    "name": "ipython",
    "version": 3
   },
   "file_extension": ".py",
   "mimetype": "text/x-python",
   "name": "python",
   "nbconvert_exporter": "python",
   "pygments_lexer": "ipython3",
   "version": "3.7.7"
  }
 },
 "nbformat": 4,
 "nbformat_minor": 4
}
